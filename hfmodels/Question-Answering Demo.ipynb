{
 "cells": [
  {
   "cell_type": "code",
   "execution_count": 1,
   "metadata": {},
   "outputs": [],
   "source": [
    "import time\n",
    "import os\n",
    "from subprocess import Popen, PIPE, STDOUT\n",
    "from datasets import (\n",
    "    get_dataset_config_names,\n",
    "    load_dataset)\n",
    "import pandas as pd\n",
    "from transformers import (\n",
    "    AutoTokenizer,\n",
    "    AutoModelForQuestionAnswering,\n",
    "    pipeline)\n",
    "import torch"
   ]
  },
  {
   "cell_type": "code",
   "execution_count": 3,
   "metadata": {},
   "outputs": [],
   "source": [
    "es_server = Popen(\n",
    "    args=[\"C:\\\\elasticsearch-8.2.0\\\\bin\\\\elasticsearch.bat\"],\n",
    "    stdout=PIPE,\n",
    "    stderr=STDOUT)"
   ]
  },
  {
   "cell_type": "code",
   "execution_count": 11,
   "metadata": {},
   "outputs": [
    {
     "name": "stdout",
     "output_type": "stream",
     "text": [
      "b'warning: ignoring JAVA_HOME=C:\\\\Program Files\\\\Java\\\\jdk-14.0.1; using bundled JDK \\r\\n'\n",
      "b'warning: ignoring JAVA_HOME=C:\\\\Program Files\\\\Java\\\\jdk-14.0.1; using ES_JAVA_HOME \\r\\n'\n",
      "b'[2022-05-22T10:29:57,895][INFO ][o.e.n.Node               ] [DESKTOP-FCQS5HT] version[8.2.0], pid[7208], build[default/zip/b174af62e8dd9f4ac4d25875e9381ffe2b9282c5/2022-04-20T10:35:10.180408517Z], OS[Windows 11/10.0/amd64], JVM[Eclipse Adoptium/OpenJDK 64-Bit Server VM/18/18+36]\\r\\n'\n",
      "b'[2022-05-22T10:29:57,917][INFO ][o.e.n.Node               ] [DESKTOP-FCQS5HT] JVM home [C:\\\\elasticsearch-8.2.0\\\\jdk], using bundled JDK [true]\\r\\n'\n",
      "b'[2022-05-22T10:29:57,918][INFO ][o.e.n.Node               ] [DESKTOP-FCQS5HT] JVM arguments [-Des.networkaddress.cache.ttl=60, -Des.networkaddress.cache.negative.ttl=10, -Djava.security.manager=allow, -XX:+AlwaysPreTouch, -Xss1m, -Djava.awt.headless=true, -Dfile.encoding=UTF-8, -Djna.nosys=true, -XX:-OmitStackTraceInFastThrow, -XX:+ShowCodeDetailsInExceptionMessages, -Dio.netty.noUnsafe=true, -Dio.netty.noKeySetOptimization=true, -Dio.netty.recycler.maxCapacityPerThread=0, -Dlog4j.shutdownHookEnabled=false, -Dlog4j2.disable.jmx=true, -Dlog4j2.formatMsgNoLookups=true, -Djava.locale.providers=SPI,COMPAT, --add-opens=java.base/java.io=ALL-UNNAMED, -XX:+UseG1GC, -Djava.io.tmpdir=C:\\\\Users\\\\grego\\\\AppData\\\\Local\\\\Temp\\\\elasticsearch, -XX:+HeapDumpOnOutOfMemoryError, -XX:+ExitOnOutOfMemoryError, -XX:HeapDumpPath=data, -XX:ErrorFile=logs/hs_err_pid%p.log, -Xlog:gc*,gc+age=trace,safepoint:file=logs/gc.log:utctime,pid,tags:filecount=32,filesize=64m, -Xms8080m, -Xmx8080m, -XX:MaxDirectMemorySize=4236247040, -XX:G1HeapRegionSize=4m, -XX:InitiatingHeapOccupancyPercent=30, -XX:G1ReservePercent=15, -Delasticsearch, -Des.path.home=C:\\\\elasticsearch-8.2.0, -Des.path.conf=C:\\\\elasticsearch-8.2.0\\\\config, -Des.distribution.flavor=default, -Des.distribution.type=zip, -Des.bundled_jdk=true]\\r\\n'\n",
      "b'[2022-05-22T10:30:10,967][INFO ][o.e.p.PluginsService     ] [DESKTOP-FCQS5HT] loaded module [aggs-matrix-stats]\\r\\n'\n",
      "b'[2022-05-22T10:30:10,968][INFO ][o.e.p.PluginsService     ] [DESKTOP-FCQS5HT] loaded module [analysis-common]\\r\\n'\n",
      "b'[2022-05-22T10:30:10,968][INFO ][o.e.p.PluginsService     ] [DESKTOP-FCQS5HT] loaded module [constant-keyword]\\r\\n'\n",
      "b'[2022-05-22T10:30:10,968][INFO ][o.e.p.PluginsService     ] [DESKTOP-FCQS5HT] loaded module [data-streams]\\r\\n'\n",
      "b'[2022-05-22T10:30:10,968][INFO ][o.e.p.PluginsService     ] [DESKTOP-FCQS5HT] loaded module [frozen-indices]\\r\\n'\n",
      "b'[2022-05-22T10:30:10,968][INFO ][o.e.p.PluginsService     ] [DESKTOP-FCQS5HT] loaded module [ingest-common]\\r\\n'\n",
      "b'[2022-05-22T10:30:10,968][INFO ][o.e.p.PluginsService     ] [DESKTOP-FCQS5HT] loaded module [ingest-geoip]\\r\\n'\n",
      "b'[2022-05-22T10:30:10,969][INFO ][o.e.p.PluginsService     ] [DESKTOP-FCQS5HT] loaded module [ingest-user-agent]\\r\\n'\n",
      "b'[2022-05-22T10:30:10,969][INFO ][o.e.p.PluginsService     ] [DESKTOP-FCQS5HT] loaded module [kibana]\\r\\n'\n",
      "b'[2022-05-22T10:30:10,969][INFO ][o.e.p.PluginsService     ] [DESKTOP-FCQS5HT] loaded module [lang-expression]\\r\\n'\n",
      "b'[2022-05-22T10:30:10,969][INFO ][o.e.p.PluginsService     ] [DESKTOP-FCQS5HT] loaded module [lang-mustache]\\r\\n'\n",
      "b'[2022-05-22T10:30:10,969][INFO ][o.e.p.PluginsService     ] [DESKTOP-FCQS5HT] loaded module [lang-painless]\\r\\n'\n",
      "b'[2022-05-22T10:30:10,970][INFO ][o.e.p.PluginsService     ] [DESKTOP-FCQS5HT] loaded module [legacy-geo]\\r\\n'\n",
      "b'[2022-05-22T10:30:10,970][INFO ][o.e.p.PluginsService     ] [DESKTOP-FCQS5HT] loaded module [mapper-extras]\\r\\n'\n",
      "b'[2022-05-22T10:30:10,970][INFO ][o.e.p.PluginsService     ] [DESKTOP-FCQS5HT] loaded module [mapper-version]\\r\\n'\n",
      "b'[2022-05-22T10:30:10,970][INFO ][o.e.p.PluginsService     ] [DESKTOP-FCQS5HT] loaded module [parent-join]\\r\\n'\n",
      "b'[2022-05-22T10:30:10,970][INFO ][o.e.p.PluginsService     ] [DESKTOP-FCQS5HT] loaded module [percolator]\\r\\n'\n",
      "b'[2022-05-22T10:30:10,971][INFO ][o.e.p.PluginsService     ] [DESKTOP-FCQS5HT] loaded module [rank-eval]\\r\\n'\n",
      "b'[2022-05-22T10:30:10,971][INFO ][o.e.p.PluginsService     ] [DESKTOP-FCQS5HT] loaded module [reindex]\\r\\n'\n",
      "b'[2022-05-22T10:30:10,971][INFO ][o.e.p.PluginsService     ] [DESKTOP-FCQS5HT] loaded module [repositories-metering-api]\\r\\n'\n",
      "b'[2022-05-22T10:30:10,971][INFO ][o.e.p.PluginsService     ] [DESKTOP-FCQS5HT] loaded module [repository-azure]\\r\\n'\n",
      "b'[2022-05-22T10:43:14,377][INFO ][o.e.p.PluginsService     ] [DESKTOP-FCQS5HT] loaded module [repository-encrypted]\\r\\n'\n",
      "b'[2022-05-22T10:43:14,378][INFO ][o.e.p.PluginsService     ] [DESKTOP-FCQS5HT] loaded module [repository-gcs]\\r\\n'\n",
      "b'[2022-05-22T10:43:14,379][INFO ][o.e.p.PluginsService     ] [DESKTOP-FCQS5HT] loaded module [repository-s3]\\r\\n'\n",
      "b'[2022-05-22T10:43:14,379][INFO ][o.e.p.PluginsService     ] [DESKTOP-FCQS5HT] loaded module [repository-url]\\r\\n'\n",
      "b'[2022-05-22T10:43:14,379][INFO ][o.e.p.PluginsService     ] [DESKTOP-FCQS5HT] loaded module [runtime-fields-common]\\r\\n'\n",
      "b'[2022-05-22T10:43:14,379][INFO ][o.e.p.PluginsService     ] [DESKTOP-FCQS5HT] loaded module [search-business-rules]\\r\\n'\n",
      "b'[2022-05-22T10:43:14,380][INFO ][o.e.p.PluginsService     ] [DESKTOP-FCQS5HT] loaded module [searchable-snapshots]\\r\\n'\n",
      "b'[2022-05-22T10:43:14,380][INFO ][o.e.p.PluginsService     ] [DESKTOP-FCQS5HT] loaded module [snapshot-based-recoveries]\\r\\n'\n",
      "b'[2022-05-22T10:43:14,381][INFO ][o.e.p.PluginsService     ] [DESKTOP-FCQS5HT] loaded module [snapshot-repo-test-kit]\\r\\n'\n",
      "b'[2022-05-22T10:43:14,381][INFO ][o.e.p.PluginsService     ] [DESKTOP-FCQS5HT] loaded module [spatial]\\r\\n'\n",
      "b'[2022-05-22T10:43:14,381][INFO ][o.e.p.PluginsService     ] [DESKTOP-FCQS5HT] loaded module [transform]\\r\\n'\n",
      "b'[2022-05-22T10:43:14,382][INFO ][o.e.p.PluginsService     ] [DESKTOP-FCQS5HT] loaded module [transport-netty4]\\r\\n'\n",
      "b'[2022-05-22T10:43:14,382][INFO ][o.e.p.PluginsService     ] [DESKTOP-FCQS5HT] loaded module [unsigned-long]\\r\\n'\n",
      "b'[2022-05-22T10:43:14,382][INFO ][o.e.p.PluginsService     ] [DESKTOP-FCQS5HT] loaded module [vector-tile]\\r\\n'\n",
      "b'[2022-05-22T10:43:14,382][INFO ][o.e.p.PluginsService     ] [DESKTOP-FCQS5HT] loaded module [vectors]\\r\\n'\n",
      "b'[2022-05-22T10:43:14,382][INFO ][o.e.p.PluginsService     ] [DESKTOP-FCQS5HT] loaded module [wildcard]\\r\\n'\n",
      "b'[2022-05-22T10:43:14,383][INFO ][o.e.p.PluginsService     ] [DESKTOP-FCQS5HT] loaded module [x-pack-aggregate-metric]\\r\\n'\n",
      "b'[2022-05-22T10:43:14,383][INFO ][o.e.p.PluginsService     ] [DESKTOP-FCQS5HT] loaded module [x-pack-analytics]\\r\\n'\n",
      "b'[2022-05-22T10:43:14,383][INFO ][o.e.p.PluginsService     ] [DESKTOP-FCQS5HT] loaded module [x-pack-async]\\r\\n'\n",
      "b'[2022-05-22T10:43:14,383][INFO ][o.e.p.PluginsService     ] [DESKTOP-FCQS5HT] loaded module [x-pack-async-search]\\r\\n'\n",
      "b'[2022-05-22T10:43:14,383][INFO ][o.e.p.PluginsService     ] [DESKTOP-FCQS5HT] loaded module [x-pack-autoscaling]\\r\\n'\n",
      "b'[2022-05-22T10:43:14,383][INFO ][o.e.p.PluginsService     ] [DESKTOP-FCQS5HT] loaded module [x-pack-ccr]\\r\\n'\n",
      "b'[2022-05-22T10:43:14,384][INFO ][o.e.p.PluginsService     ] [DESKTOP-FCQS5HT] loaded module [x-pack-core]\\r\\n'\n",
      "b'[2022-05-22T10:43:14,384][INFO ][o.e.p.PluginsService     ] [DESKTOP-FCQS5HT] loaded module [x-pack-deprecation]\\r\\n'\n",
      "b'[2022-05-22T10:43:14,384][INFO ][o.e.p.PluginsService     ] [DESKTOP-FCQS5HT] loaded module [x-pack-enrich]\\r\\n'\n",
      "b'[2022-05-22T10:43:14,384][INFO ][o.e.p.PluginsService     ] [DESKTOP-FCQS5HT] loaded module [x-pack-eql]\\r\\n'\n",
      "b'[2022-05-22T10:43:14,384][INFO ][o.e.p.PluginsService     ] [DESKTOP-FCQS5HT] loaded module [x-pack-fleet]\\r\\n'\n",
      "b'[2022-05-22T10:43:14,384][INFO ][o.e.p.PluginsService     ] [DESKTOP-FCQS5HT] loaded module [x-pack-graph]\\r\\n'\n",
      "b'[2022-05-22T10:43:14,385][INFO ][o.e.p.PluginsService     ] [DESKTOP-FCQS5HT] loaded module [x-pack-identity-provider]\\r\\n'\n",
      "b'[2022-05-22T10:43:14,385][INFO ][o.e.p.PluginsService     ] [DESKTOP-FCQS5HT] loaded module [x-pack-ilm]\\r\\n'\n",
      "b'[2022-05-22T10:43:14,385][INFO ][o.e.p.PluginsService     ] [DESKTOP-FCQS5HT] loaded module [x-pack-logstash]\\r\\n'\n",
      "b'[2022-05-22T10:43:14,385][INFO ][o.e.p.PluginsService     ] [DESKTOP-FCQS5HT] loaded module [x-pack-ml]\\r\\n'\n",
      "b'[2022-05-22T10:43:14,385][INFO ][o.e.p.PluginsService     ] [DESKTOP-FCQS5HT] loaded module [x-pack-monitoring]\\r\\n'\n",
      "b'[2022-05-22T10:43:14,385][INFO ][o.e.p.PluginsService     ] [DESKTOP-FCQS5HT] loaded module [x-pack-ql]\\r\\n'\n",
      "b'[2022-05-22T10:43:14,386][INFO ][o.e.p.PluginsService     ] [DESKTOP-FCQS5HT] loaded module [x-pack-rollup]\\r\\n'\n",
      "b'[2022-05-22T10:43:14,386][INFO ][o.e.p.PluginsService     ] [DESKTOP-FCQS5HT] loaded module [x-pack-security]\\r\\n'\n",
      "b'[2022-05-22T10:43:14,386][INFO ][o.e.p.PluginsService     ] [DESKTOP-FCQS5HT] loaded module [x-pack-shutdown]\\r\\n'\n",
      "b'[2022-05-22T10:43:14,386][INFO ][o.e.p.PluginsService     ] [DESKTOP-FCQS5HT] loaded module [x-pack-sql]\\r\\n'\n",
      "b'[2022-05-22T10:43:14,386][INFO ][o.e.p.PluginsService     ] [DESKTOP-FCQS5HT] loaded module [x-pack-stack]\\r\\n'\n",
      "b'[2022-05-22T10:43:14,386][INFO ][o.e.p.PluginsService     ] [DESKTOP-FCQS5HT] loaded module [x-pack-text-structure]\\r\\n'\n",
      "b'[2022-05-22T10:43:14,387][INFO ][o.e.p.PluginsService     ] [DESKTOP-FCQS5HT] loaded module [x-pack-voting-only-node]\\r\\n'\n",
      "b'[2022-05-22T10:43:14,387][INFO ][o.e.p.PluginsService     ] [DESKTOP-FCQS5HT] loaded module [x-pack-watcher]\\r\\n'\n",
      "b'[2022-05-22T10:43:14,388][INFO ][o.e.p.PluginsService     ] [DESKTOP-FCQS5HT] no plugins loaded\\r\\n'\n",
      "b'[2022-05-22T10:43:15,677][INFO ][o.e.e.NodeEnvironment    ] [DESKTOP-FCQS5HT] using [1] data paths, mounts [[OS (C:)]], net usable_space [168.2gb], net total_space [475.9gb], types [NTFS]\\r\\n'\n",
      "b'[2022-05-22T10:43:15,678][INFO ][o.e.e.NodeEnvironment    ] [DESKTOP-FCQS5HT] heap size [7.8gb], compressed ordinary object pointers [true]\\r\\n'\n",
      "b'[2022-05-22T10:43:15,782][INFO ][o.e.n.Node               ] [DESKTOP-FCQS5HT] node name [DESKTOP-FCQS5HT], node ID [rYNTeVfiS7WSmgpwbeBLBw], cluster name [elasticsearch], roles [data_cold, data, remote_cluster_client, master, data_warm, data_content, transform, data_hot, ml, data_frozen, ingest]\\r\\n'\n",
      "b'[2022-05-22T10:43:21,090][INFO ][o.e.x.m.p.l.CppLogMessageHandler] [DESKTOP-FCQS5HT] [controller/15896] [Main.cc@123] controller (64 bit): Version 8.2.0 (Build a8c0a88ede0ff2) Copyright (c) 2022 Elasticsearch BV\\r\\n'\n",
      "b'[2022-05-22T10:43:21,389][INFO ][o.e.x.s.Security         ] [DESKTOP-FCQS5HT] Security is enabled\\r\\n'\n",
      "b'[2022-05-22T10:43:21,643][INFO ][o.e.x.s.a.Realms         ] [DESKTOP-FCQS5HT] license mode is [trial], currently licensed security realms are [reserved/reserved,file/default_file,native/default_native]\\r\\n'\n",
      "b'[2022-05-22T10:43:21,661][INFO ][o.e.x.s.a.s.FileRolesStore] [DESKTOP-FCQS5HT] parsed [0] roles from file [C:\\\\elasticsearch-8.2.0\\\\config\\\\roles.yml]\\r\\n'\n",
      "b'[2022-05-22T10:43:21,979][INFO ][o.e.x.s.InitialNodeSecurityAutoConfiguration] [DESKTOP-FCQS5HT] Auto-configuration will not generate a password for the elastic built-in superuser, as we cannot  determine if there is a terminal attached to the elasticsearch process. You can use the `bin/elasticsearch-reset-password` tool to set the password for the elastic user.\\r\\n'\n",
      "b'[2022-05-22T10:43:22,288][INFO ][o.e.i.g.DatabaseNodeService] [DESKTOP-FCQS5HT] deleting stale file [C:\\\\Users\\\\grego\\\\AppData\\\\Local\\\\Temp\\\\elasticsearch\\\\geoip-databases\\\\rYNTeVfiS7WSmgpwbeBLBw\\\\GeoLite2-ASN.mmdb]\\r\\n'\n",
      "b'[2022-05-22T10:43:22,293][INFO ][o.e.i.g.DatabaseNodeService] [DESKTOP-FCQS5HT] deleting stale file [C:\\\\Users\\\\grego\\\\AppData\\\\Local\\\\Temp\\\\elasticsearch\\\\geoip-databases\\\\rYNTeVfiS7WSmgpwbeBLBw\\\\GeoLite2-ASN.mmdb_COPYRIGHT.txt]\\r\\n'\n",
      "b'[2022-05-22T10:43:22,295][INFO ][o.e.i.g.DatabaseNodeService] [DESKTOP-FCQS5HT] deleting stale file [C:\\\\Users\\\\grego\\\\AppData\\\\Local\\\\Temp\\\\elasticsearch\\\\geoip-databases\\\\rYNTeVfiS7WSmgpwbeBLBw\\\\GeoLite2-ASN.mmdb_elastic-geoip-database-service-agreement-LICENSE.txt]\\r\\n'\n",
      "b'[2022-05-22T10:43:22,297][INFO ][o.e.i.g.DatabaseNodeService] [DESKTOP-FCQS5HT] deleting stale file [C:\\\\Users\\\\grego\\\\AppData\\\\Local\\\\Temp\\\\elasticsearch\\\\geoip-databases\\\\rYNTeVfiS7WSmgpwbeBLBw\\\\GeoLite2-ASN.mmdb_LICENSE.txt]\\r\\n'\n",
      "b'[2022-05-22T10:43:22,300][INFO ][o.e.i.g.DatabaseNodeService] [DESKTOP-FCQS5HT] deleting stale file [C:\\\\Users\\\\grego\\\\AppData\\\\Local\\\\Temp\\\\elasticsearch\\\\geoip-databases\\\\rYNTeVfiS7WSmgpwbeBLBw\\\\GeoLite2-City.mmdb]\\r\\n'\n",
      "b'[2022-05-22T10:43:22,314][INFO ][o.e.i.g.DatabaseNodeService] [DESKTOP-FCQS5HT] deleting stale file [C:\\\\Users\\\\grego\\\\AppData\\\\Local\\\\Temp\\\\elasticsearch\\\\geoip-databases\\\\rYNTeVfiS7WSmgpwbeBLBw\\\\GeoLite2-City.mmdb_COPYRIGHT.txt]\\r\\n'\n",
      "b'[2022-05-22T10:43:22,316][INFO ][o.e.i.g.DatabaseNodeService] [DESKTOP-FCQS5HT] deleting stale file [C:\\\\Users\\\\grego\\\\AppData\\\\Local\\\\Temp\\\\elasticsearch\\\\geoip-databases\\\\rYNTeVfiS7WSmgpwbeBLBw\\\\GeoLite2-City.mmdb_elastic-geoip-database-service-agreement-LICENSE.txt]\\r\\n'\n",
      "b'[2022-05-22T10:43:22,317][INFO ][o.e.i.g.DatabaseNodeService] [DESKTOP-FCQS5HT] deleting stale file [C:\\\\Users\\\\grego\\\\AppData\\\\Local\\\\Temp\\\\elasticsearch\\\\geoip-databases\\\\rYNTeVfiS7WSmgpwbeBLBw\\\\GeoLite2-City.mmdb_LICENSE.txt]\\r\\n'\n",
      "b'[2022-05-22T10:43:22,319][INFO ][o.e.i.g.DatabaseNodeService] [DESKTOP-FCQS5HT] deleting stale file [C:\\\\Users\\\\grego\\\\AppData\\\\Local\\\\Temp\\\\elasticsearch\\\\geoip-databases\\\\rYNTeVfiS7WSmgpwbeBLBw\\\\GeoLite2-City.mmdb_README.txt]\\r\\n'\n",
      "b'[2022-05-22T10:43:22,320][INFO ][o.e.i.g.DatabaseNodeService] [DESKTOP-FCQS5HT] deleting stale file [C:\\\\Users\\\\grego\\\\AppData\\\\Local\\\\Temp\\\\elasticsearch\\\\geoip-databases\\\\rYNTeVfiS7WSmgpwbeBLBw\\\\GeoLite2-Country.mmdb]\\r\\n'\n",
      "b'[2022-05-22T10:43:22,325][INFO ][o.e.i.g.DatabaseNodeService] [DESKTOP-FCQS5HT] deleting stale file [C:\\\\Users\\\\grego\\\\AppData\\\\Local\\\\Temp\\\\elasticsearch\\\\geoip-databases\\\\rYNTeVfiS7WSmgpwbeBLBw\\\\GeoLite2-Country.mmdb_COPYRIGHT.txt]\\r\\n'\n",
      "b'[2022-05-22T10:43:22,326][INFO ][o.e.i.g.DatabaseNodeService] [DESKTOP-FCQS5HT] deleting stale file [C:\\\\Users\\\\grego\\\\AppData\\\\Local\\\\Temp\\\\elasticsearch\\\\geoip-databases\\\\rYNTeVfiS7WSmgpwbeBLBw\\\\GeoLite2-Country.mmdb_elastic-geoip-database-service-agreement-LICENSE.txt]\\r\\n'\n",
      "b'[2022-05-22T10:43:22,328][INFO ][o.e.i.g.DatabaseNodeService] [DESKTOP-FCQS5HT] deleting stale file [C:\\\\Users\\\\grego\\\\AppData\\\\Local\\\\Temp\\\\elasticsearch\\\\geoip-databases\\\\rYNTeVfiS7WSmgpwbeBLBw\\\\GeoLite2-Country.mmdb_LICENSE.txt]\\r\\n'\n",
      "b'[2022-05-22T10:43:23,020][INFO ][o.e.t.n.NettyAllocator   ] [DESKTOP-FCQS5HT] creating NettyAllocator with the following configs: [name=elasticsearch_configured, chunk_size=1mb, suggested_max_allocation_size=1mb, factors={es.unsafe.use_netty_default_chunk_and_page_size=false, g1gc_enabled=true, g1gc_region_size=4mb}]\\r\\n'\n",
      "b'[2022-05-22T10:43:23,064][INFO ][o.e.i.r.RecoverySettings ] [DESKTOP-FCQS5HT] using rate limit [40mb] with [default=40mb, read=0b, write=0b, max=0b]\\r\\n'\n",
      "b'[2022-05-22T10:43:23,113][INFO ][o.e.d.DiscoveryModule    ] [DESKTOP-FCQS5HT] using discovery type [multi-node] and seed hosts providers [settings]\\r\\n'\n",
      "b'[2022-05-22T10:43:24,402][INFO ][o.e.n.Node               ] [DESKTOP-FCQS5HT] initialized\\r\\n'\n",
      "b'[2022-05-22T10:43:24,403][INFO ][o.e.n.Node               ] [DESKTOP-FCQS5HT] starting ...\\r\\n'\n",
      "b'[2022-05-22T10:43:24,428][INFO ][o.e.x.s.c.f.PersistentCache] [DESKTOP-FCQS5HT] persistent cache index loaded\\r\\n'\n",
      "b'[2022-05-22T10:43:24,429][INFO ][o.e.x.d.l.DeprecationIndexingComponent] [DESKTOP-FCQS5HT] deprecation component started\\r\\n'\n",
      "b'[2022-05-22T10:43:24,626][INFO ][o.e.t.TransportService   ] [DESKTOP-FCQS5HT] publish_address {127.0.0.1:9300}, bound_addresses {127.0.0.1:9300}, {[::1]:9300}\\r\\n'\n",
      "b'[2022-05-22T10:43:24,997][INFO ][o.e.c.c.Coordinator      ] [DESKTOP-FCQS5HT] cluster UUID [8G4VDYDmR1SGNxsr4rDKXg]\\r\\n'\n",
      "b'[2022-05-22T10:43:25,192][INFO ][o.e.c.s.MasterService    ] [DESKTOP-FCQS5HT] elected-as-master ([1] nodes joined)[_FINISH_ELECTION_, {DESKTOP-FCQS5HT}{rYNTeVfiS7WSmgpwbeBLBw}{DNuLc2k6S1uwv_BkxCTXuQ}{127.0.0.1}{127.0.0.1:9300}{cdfhilmrstw} completing election], term: 4, version: 78, delta: master node changed {previous [], current [{DESKTOP-FCQS5HT}{rYNTeVfiS7WSmgpwbeBLBw}{DNuLc2k6S1uwv_BkxCTXuQ}{127.0.0.1}{127.0.0.1:9300}{cdfhilmrstw}]}\\r\\n'\n",
      "b'[2022-05-22T10:43:25,310][INFO ][o.e.c.s.ClusterApplierService] [DESKTOP-FCQS5HT] master node changed {previous [], current [{DESKTOP-FCQS5HT}{rYNTeVfiS7WSmgpwbeBLBw}{DNuLc2k6S1uwv_BkxCTXuQ}{127.0.0.1}{127.0.0.1:9300}{cdfhilmrstw}]}, term: 4, version: 78, reason: Publication{term=4, version=78}\\r\\n'\n",
      "b'[2022-05-22T10:43:25,396][INFO ][o.e.h.AbstractHttpServerTransport] [DESKTOP-FCQS5HT] publish_address {10.0.0.195:9200}, bound_addresses {[::]:9200}\\r\\n'\n",
      "b'[2022-05-22T10:43:25,397][INFO ][o.e.n.Node               ] [DESKTOP-FCQS5HT] started\\r\\n'\n",
      "b'[2022-05-22T10:43:25,448][INFO ][o.e.l.LicenseService     ] [DESKTOP-FCQS5HT] license [94a93359-caca-4f1d-b9c1-026fd4477bfc] mode [basic] - valid\\r\\n'\n",
      "b'[2022-05-22T10:43:25,449][INFO ][o.e.x.s.a.Realms         ] [DESKTOP-FCQS5HT] license mode is [basic], currently licensed security realms are [reserved/reserved,file/default_file,native/default_native]\\r\\n'\n",
      "b'[2022-05-22T10:43:25,454][INFO ][o.e.g.GatewayService     ] [DESKTOP-FCQS5HT] recovered [2] indices into cluster_state\\r\\n'\n",
      "b'[2022-05-22T10:43:26,032][INFO ][o.e.c.r.a.AllocationService] [DESKTOP-FCQS5HT] current.health=\"GREEN\" message=\"Cluster health status changed from [RED] to [GREEN] (reason: [shards started [[.geoip_databases][0]]]).\" previous.health=\"RED\" reason=\"shards started [[.geoip_databases][0]]\"\\r\\n'\n",
      "b'[2022-05-22T10:43:26,083][INFO ][o.e.i.g.DatabaseNodeService] [DESKTOP-FCQS5HT] retrieve geoip database [GeoLite2-ASN.mmdb] from [.geoip_databases] to [C:\\\\Users\\\\grego\\\\AppData\\\\Local\\\\Temp\\\\elasticsearch\\\\geoip-databases\\\\rYNTeVfiS7WSmgpwbeBLBw\\\\GeoLite2-ASN.mmdb.tmp.gz]\\r\\n'\n",
      "b'[2022-05-22T10:43:26,086][INFO ][o.e.i.g.DatabaseNodeService] [DESKTOP-FCQS5HT] retrieve geoip database [GeoLite2-City.mmdb] from [.geoip_databases] to [C:\\\\Users\\\\grego\\\\AppData\\\\Local\\\\Temp\\\\elasticsearch\\\\geoip-databases\\\\rYNTeVfiS7WSmgpwbeBLBw\\\\GeoLite2-City.mmdb.tmp.gz]\\r\\n'\n",
      "b'[2022-05-22T10:43:26,088][INFO ][o.e.i.g.DatabaseNodeService] [DESKTOP-FCQS5HT] retrieve geoip database [GeoLite2-Country.mmdb] from [.geoip_databases] to [C:\\\\Users\\\\grego\\\\AppData\\\\Local\\\\Temp\\\\elasticsearch\\\\geoip-databases\\\\rYNTeVfiS7WSmgpwbeBLBw\\\\GeoLite2-Country.mmdb.tmp.gz]\\r\\n'\n",
      "b'[2022-05-22T10:43:26,341][INFO ][o.e.i.g.DatabaseNodeService] [DESKTOP-FCQS5HT] successfully loaded geoip database file [GeoLite2-Country.mmdb]\\r\\n'\n",
      "b'[2022-05-22T10:43:26,367][INFO ][o.e.i.g.DatabaseNodeService] [DESKTOP-FCQS5HT] successfully loaded geoip database file [GeoLite2-ASN.mmdb]\\r\\n'\n",
      "b'[2022-05-22T10:43:26,834][INFO ][o.e.i.g.DatabaseNodeService] [DESKTOP-FCQS5HT] retrieve geoip database [GeoLite2-ASN.mmdb] from [.geoip_databases] to [C:\\\\Users\\\\grego\\\\AppData\\\\Local\\\\Temp\\\\elasticsearch\\\\geoip-databases\\\\rYNTeVfiS7WSmgpwbeBLBw\\\\GeoLite2-ASN.mmdb.tmp.gz]\\r\\n'\n",
      "b'[2022-05-22T10:43:26,838][INFO ][o.e.i.g.GeoIpDownloader  ] [DESKTOP-FCQS5HT] successfully downloaded geoip database [GeoLite2-ASN.mmdb]\\r\\n'\n",
      "b'[2022-05-22T10:43:26,961][INFO ][o.e.i.g.DatabaseReaderLazyLoader] [DESKTOP-FCQS5HT] evicted [0] entries from cache after reloading database [C:\\\\Users\\\\grego\\\\AppData\\\\Local\\\\Temp\\\\elasticsearch\\\\geoip-databases\\\\rYNTeVfiS7WSmgpwbeBLBw\\\\GeoLite2-ASN.mmdb]\\r\\n'\n",
      "b'[2022-05-22T10:43:26,962][INFO ][o.e.i.g.DatabaseNodeService] [DESKTOP-FCQS5HT] successfully loaded geoip database file [GeoLite2-ASN.mmdb]\\r\\n'\n",
      "b'[2022-05-22T10:43:27,260][INFO ][o.e.i.g.DatabaseNodeService] [DESKTOP-FCQS5HT] successfully loaded geoip database file [GeoLite2-City.mmdb]\\r\\n'\n",
      "b'[2022-05-22T10:43:28,745][INFO ][o.e.i.g.DatabaseNodeService] [DESKTOP-FCQS5HT] retrieve geoip database [GeoLite2-City.mmdb] from [.geoip_databases] to [C:\\\\Users\\\\grego\\\\AppData\\\\Local\\\\Temp\\\\elasticsearch\\\\geoip-databases\\\\rYNTeVfiS7WSmgpwbeBLBw\\\\GeoLite2-City.mmdb.tmp.gz]\\r\\n'\n",
      "b'[2022-05-22T10:43:28,748][INFO ][o.e.i.g.GeoIpDownloader  ] [DESKTOP-FCQS5HT] successfully downloaded geoip database [GeoLite2-City.mmdb]\\r\\n'\n",
      "b'[2022-05-22T10:43:29,279][INFO ][o.e.i.g.DatabaseNodeService] [DESKTOP-FCQS5HT] retrieve geoip database [GeoLite2-Country.mmdb] from [.geoip_databases] to [C:\\\\Users\\\\grego\\\\AppData\\\\Local\\\\Temp\\\\elasticsearch\\\\geoip-databases\\\\rYNTeVfiS7WSmgpwbeBLBw\\\\GeoLite2-Country.mmdb.tmp.gz]\\r\\n'\n",
      "b'[2022-05-22T10:43:29,283][INFO ][o.e.i.g.GeoIpDownloader  ] [DESKTOP-FCQS5HT] successfully downloaded geoip database [GeoLite2-Country.mmdb]\\r\\n'\n",
      "b'[2022-05-22T10:43:29,376][INFO ][o.e.i.g.DatabaseReaderLazyLoader] [DESKTOP-FCQS5HT] evicted [0] entries from cache after reloading database [C:\\\\Users\\\\grego\\\\AppData\\\\Local\\\\Temp\\\\elasticsearch\\\\geoip-databases\\\\rYNTeVfiS7WSmgpwbeBLBw\\\\GeoLite2-Country.mmdb]\\r\\n'\n",
      "b'[2022-05-22T10:43:29,376][INFO ][o.e.i.g.DatabaseNodeService] [DESKTOP-FCQS5HT] successfully loaded geoip database file [GeoLite2-Country.mmdb]\\r\\n'\n",
      "b'[2022-05-22T10:43:29,652][INFO ][o.e.i.g.DatabaseReaderLazyLoader] [DESKTOP-FCQS5HT] evicted [0] entries from cache after reloading database [C:\\\\Users\\\\grego\\\\AppData\\\\Local\\\\Temp\\\\elasticsearch\\\\geoip-databases\\\\rYNTeVfiS7WSmgpwbeBLBw\\\\GeoLite2-City.mmdb]\\r\\n'\n",
      "b'[2022-05-22T10:43:29,652][INFO ][o.e.i.g.DatabaseNodeService] [DESKTOP-FCQS5HT] successfully loaded geoip database file [GeoLite2-City.mmdb]\\r\\n'\n"
     ]
    }
   ],
   "source": [
    "for line in es_server.stdout:\n",
    "    print(line)"
   ]
  },
  {
   "cell_type": "code",
   "execution_count": 6,
   "metadata": {},
   "outputs": [
    {
     "name": "stderr",
     "output_type": "stream",
     "text": [
      "  % Total    % Received % Xferd  Average Speed   Time    Time     Time  Current\n",
      "                                 Dload  Upload   Total   Spent    Left  Speed\n",
      "\n",
      "  0     0    0     0    0     0      0      0 --:--:-- --:--:-- --:--:--     0\n",
      "  0     0    0     0    0     0      0      0 --:--:-- --:--:-- --:--:--     0\n",
      "  0     0    0     0    0     0      0      0 --:--:--  0:00:01 --:--:--     0\n",
      "  0     0    0     0    0     0      0      0 --:--:--  0:00:02 --:--:--     0\n",
      "curl: (7) Failed to connect to localhost port 9200 after 2247 ms: Connection refused\n"
     ]
    }
   ],
   "source": [
    "!curl --insecure -X GET \"localhost:9200/?pretty\"\n",
    "#!curl --insecure -u elastic https://localhost:9200"
   ]
  },
  {
   "cell_type": "code",
   "execution_count": 5,
   "metadata": {},
   "outputs": [],
   "source": [
    "es_server.terminate()"
   ]
  },
  {
   "cell_type": "code",
   "execution_count": 2,
   "metadata": {},
   "outputs": [
    {
     "name": "stderr",
     "output_type": "stream",
     "text": [
      "Reusing dataset subjqa (C:\\Users\\grego\\.cache\\huggingface\\datasets\\subjqa\\books\\1.1.0\\e5588f9298ff2d70686a00cc377e4bdccf4e32287459e3c6baf2dc5ab57fe7fd)\n",
      "100%|██████████| 3/3 [00:00<00:00, 142.59it/s]\n"
     ]
    }
   ],
   "source": [
    "model_ckpt = \"deepset/minilm-uncased-squad2\"\n",
    "tokenizer = AutoTokenizer.from_pretrained(model_ckpt)\n",
    "model = AutoModelForQuestionAnswering.from_pretrained(model_ckpt)\n",
    "\n",
    "domains = get_dataset_config_names('subjqa')\n",
    "\n",
    "subjqa = load_dataset(\"subjqa\",name=\"books\")"
   ]
  },
  {
   "cell_type": "code",
   "execution_count": 4,
   "metadata": {},
   "outputs": [
    {
     "name": "stdout",
     "output_type": "stream",
     "text": [
      "Number of questions in train: 1314\n",
      "Number of questions in test: 345\n",
      "Number of questions in validation: 256\n"
     ]
    },
    {
     "data": {
      "text/html": [
       "<div>\n",
       "<style scoped>\n",
       "    .dataframe tbody tr th:only-of-type {\n",
       "        vertical-align: middle;\n",
       "    }\n",
       "\n",
       "    .dataframe tbody tr th {\n",
       "        vertical-align: top;\n",
       "    }\n",
       "\n",
       "    .dataframe thead th {\n",
       "        text-align: right;\n",
       "    }\n",
       "</style>\n",
       "<table border=\"1\" class=\"dataframe\">\n",
       "  <thead>\n",
       "    <tr style=\"text-align: right;\">\n",
       "      <th></th>\n",
       "      <th>title</th>\n",
       "      <th>question</th>\n",
       "      <th>answers.text</th>\n",
       "      <th>answers.answer_start</th>\n",
       "      <th>context</th>\n",
       "    </tr>\n",
       "  </thead>\n",
       "  <tbody>\n",
       "    <tr>\n",
       "      <th>463</th>\n",
       "      <td>0312576463</td>\n",
       "      <td>Why none is likeable?</td>\n",
       "      <td>[The characters were not likable, and it often...</td>\n",
       "      <td>[119, 156]</td>\n",
       "      <td>It's the classic &amp;#34;disconnected from parent...</td>\n",
       "    </tr>\n",
       "    <tr>\n",
       "      <th>284</th>\n",
       "      <td>0307265439</td>\n",
       "      <td>What is the sentiment of the story?</td>\n",
       "      <td>[]</td>\n",
       "      <td>[]</td>\n",
       "      <td>I rate books on how much of an impact they hav...</td>\n",
       "    </tr>\n",
       "    <tr>\n",
       "      <th>34</th>\n",
       "      <td>0007442920</td>\n",
       "      <td>What book is ?</td>\n",
       "      <td>[this book though luckily there is no love tri...</td>\n",
       "      <td>[350, 350]</td>\n",
       "      <td>Insurgent takes off where Divergent ended. We ...</td>\n",
       "    </tr>\n",
       "    <tr>\n",
       "      <th>263</th>\n",
       "      <td>0143170090</td>\n",
       "      <td>Is the movie dialogue good?</td>\n",
       "      <td>[]</td>\n",
       "      <td>[]</td>\n",
       "      <td>I found the story interesting, and yes, distur...</td>\n",
       "    </tr>\n",
       "    <tr>\n",
       "      <th>151</th>\n",
       "      <td>0099464462</td>\n",
       "      <td>What is the main concept of books?</td>\n",
       "      <td>[]</td>\n",
       "      <td>[]</td>\n",
       "      <td>This book has elicited in me mixed emotions. T...</td>\n",
       "    </tr>\n",
       "    <tr>\n",
       "      <th>877</th>\n",
       "      <td>0439023513</td>\n",
       "      <td>How is the book?</td>\n",
       "      <td>[am floored at how bad this book]</td>\n",
       "      <td>[86]</td>\n",
       "      <td>(Spoiler alert)I just finished reading Mocking...</td>\n",
       "    </tr>\n",
       "    <tr>\n",
       "      <th>1159</th>\n",
       "      <td>1476730091</td>\n",
       "      <td>Do you study chemistry or electic?</td>\n",
       "      <td>[]</td>\n",
       "      <td>[]</td>\n",
       "      <td>Finally! I have been going through romances in...</td>\n",
       "    </tr>\n",
       "    <tr>\n",
       "      <th>737</th>\n",
       "      <td>0399159347</td>\n",
       "      <td>Do you consider the author a person skilled?</td>\n",
       "      <td>[that one can stand]</td>\n",
       "      <td>[208]</td>\n",
       "      <td>The writer is very good at her trade, but the ...</td>\n",
       "    </tr>\n",
       "    <tr>\n",
       "      <th>830</th>\n",
       "      <td>0439023483</td>\n",
       "      <td>What about action ?</td>\n",
       "      <td>[the action was great]</td>\n",
       "      <td>[171]</td>\n",
       "      <td>Great book, to begin the Hunger Games series. ...</td>\n",
       "    </tr>\n",
       "    <tr>\n",
       "      <th>268</th>\n",
       "      <td>0143170104</td>\n",
       "      <td>Is it really only one?</td>\n",
       "      <td>[]</td>\n",
       "      <td>[]</td>\n",
       "      <td>This story starts about a year and half after ...</td>\n",
       "    </tr>\n",
       "  </tbody>\n",
       "</table>\n",
       "</div>"
      ],
      "text/plain": [
       "           title                                      question  \\\n",
       "463   0312576463                         Why none is likeable?   \n",
       "284   0307265439           What is the sentiment of the story?   \n",
       "34    0007442920                                What book is ?   \n",
       "263   0143170090                   Is the movie dialogue good?   \n",
       "151   0099464462            What is the main concept of books?   \n",
       "877   0439023513                              How is the book?   \n",
       "1159  1476730091            Do you study chemistry or electic?   \n",
       "737   0399159347  Do you consider the author a person skilled?   \n",
       "830   0439023483                           What about action ?   \n",
       "268   0143170104                        Is it really only one?   \n",
       "\n",
       "                                           answers.text answers.answer_start  \\\n",
       "463   [The characters were not likable, and it often...           [119, 156]   \n",
       "284                                                  []                   []   \n",
       "34    [this book though luckily there is no love tri...           [350, 350]   \n",
       "263                                                  []                   []   \n",
       "151                                                  []                   []   \n",
       "877                   [am floored at how bad this book]                 [86]   \n",
       "1159                                                 []                   []   \n",
       "737                                [that one can stand]                [208]   \n",
       "830                              [the action was great]                [171]   \n",
       "268                                                  []                   []   \n",
       "\n",
       "                                                context  \n",
       "463   It's the classic &#34;disconnected from parent...  \n",
       "284   I rate books on how much of an impact they hav...  \n",
       "34    Insurgent takes off where Divergent ended. We ...  \n",
       "263   I found the story interesting, and yes, distur...  \n",
       "151   This book has elicited in me mixed emotions. T...  \n",
       "877   (Spoiler alert)I just finished reading Mocking...  \n",
       "1159  Finally! I have been going through romances in...  \n",
       "737   The writer is very good at her trade, but the ...  \n",
       "830   Great book, to begin the Hunger Games series. ...  \n",
       "268   This story starts about a year and half after ...  "
      ]
     },
     "execution_count": 4,
     "metadata": {},
     "output_type": "execute_result"
    }
   ],
   "source": [
    "dfs = {split: dset.to_pandas() for split, dset \n",
    "    in subjqa.flatten().items()}\n",
    "\n",
    "for split, df in dfs.items():\n",
    "    print(f\"Number of questions in {split}: {df['id'].nunique()}\")\n",
    "\n",
    "qa_cols = ['title', 'question', 'answers.text',\n",
    "    'answers.answer_start', 'context']\n",
    "\n",
    "sample_df = dfs[\"train\"][qa_cols].sample(10, random_state=7)\n",
    "\n",
    "sample_df"
   ]
  },
  {
   "cell_type": "code",
   "execution_count": 5,
   "metadata": {},
   "outputs": [],
   "source": [
    "pipe = pipeline(\"question-answering\",model=model, tokenizer=tokenizer)"
   ]
  },
  {
   "cell_type": "code",
   "execution_count": 6,
   "metadata": {},
   "outputs": [
    {
     "name": "stderr",
     "output_type": "stream",
     "text": [
      "C:\\Users\\grego\\Anaconda3\\envs\\py39\\lib\\site-packages\\numpy\\core\\_asarray.py:102: VisibleDeprecationWarning: Creating an ndarray from ragged nested sequences (which is a list-or-tuple of lists-or-tuples-or ndarrays with different lengths or shapes) is deprecated. If you meant to do this, you must specify 'dtype=object' when creating the ndarray.\n",
      "  return array(a, dtype, copy=False, order=order)\n"
     ]
    },
    {
     "name": "stdout",
     "output_type": "stream",
     "text": [
      "3 seconds\n"
     ]
    }
   ],
   "source": [
    "start_time = time.time()\n",
    "train_res = pipe(\n",
    "    question=sample_df[\"question\"].tolist(),\n",
    "    context=sample_df[\"context\"].tolist())\n",
    "elapsed_time = time.time() - start_time\n",
    "print(f\"{round(elapsed_time)} seconds\")"
   ]
  },
  {
   "cell_type": "code",
   "execution_count": 7,
   "metadata": {},
   "outputs": [
    {
     "data": {
      "text/plain": [
       "[{'score': 0.00019147747661918402,\n",
       "  'start': 123,\n",
       "  'end': 150,\n",
       "  'answer': 'characters were not likable'},\n",
       " {'score': 0.7689992189407349,\n",
       "  'start': 1156,\n",
       "  'end': 1166,\n",
       "  'answer': 'depressing'},\n",
       " {'score': 0.8209125995635986, 'start': 0, 'end': 9, 'answer': 'Insurgent'},\n",
       " {'score': 0.09765518456697464,\n",
       "  'start': 1196,\n",
       "  'end': 1274,\n",
       "  'answer': 'I would think the sexual lives of the main characters would be more disturbing'},\n",
       " {'score': 0.17623278498649597,\n",
       "  'start': 189,\n",
       "  'end': 202,\n",
       "  'answer': 'romance novel'},\n",
       " {'score': 0.23674839735031128,\n",
       "  'start': 1345,\n",
       "  'end': 1360,\n",
       "  'answer': 'flat out brutal'},\n",
       " {'score': 0.888448178768158,\n",
       "  'start': 2085,\n",
       "  'end': 2100,\n",
       "  'answer': 'Side Characters'},\n",
       " {'score': 0.42023810744285583,\n",
       "  'start': 0,\n",
       "  'end': 36,\n",
       "  'answer': 'The writer is very good at her trade'},\n",
       " {'score': 0.4013780951499939, 'start': 186, 'end': 191, 'answer': 'great'},\n",
       " {'score': 0.04846242070198059,\n",
       "  'start': 931,\n",
       "  'end': 982,\n",
       "  'answer': 'This book dragged on a little too long for my taste'}]"
      ]
     },
     "execution_count": 7,
     "metadata": {},
     "output_type": "execute_result"
    }
   ],
   "source": [
    "train_res"
   ]
  },
  {
   "cell_type": "code",
   "execution_count": 1,
   "metadata": {},
   "outputs": [
    {
     "data": {
      "text/plain": [
       "'c:\\\\Users\\\\grego\\\\Documents\\\\GitHub\\\\hfmodels\\\\hfmodels'"
      ]
     },
     "execution_count": 1,
     "metadata": {},
     "output_type": "execute_result"
    }
   ],
   "source": [
    "import os\n",
    "os.getcwd()"
   ]
  },
  {
   "cell_type": "code",
   "execution_count": null,
   "metadata": {},
   "outputs": [],
   "source": []
  }
 ],
 "metadata": {
  "interpreter": {
   "hash": "cc2077442d658f45778fa1e23b0ce166896ca90401b2e33d9c328547ed2859af"
  },
  "kernelspec": {
   "display_name": "Python 3.9.7 ('base')",
   "language": "python",
   "name": "python3"
  },
  "language_info": {
   "codemirror_mode": {
    "name": "ipython",
    "version": 3
   },
   "file_extension": ".py",
   "mimetype": "text/x-python",
   "name": "python",
   "nbconvert_exporter": "python",
   "pygments_lexer": "ipython3",
   "version": "3.9.7"
  },
  "orig_nbformat": 4
 },
 "nbformat": 4,
 "nbformat_minor": 2
}
